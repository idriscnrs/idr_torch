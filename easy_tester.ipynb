{
 "cells": [
  {
   "cell_type": "markdown",
   "id": "35e578cb-95d6-4a1f-b89c-defe9d41de43",
   "metadata": {},
   "source": [
    "# Testeur rapide pour idr_torch"
   ]
  },
  {
   "cell_type": "code",
   "execution_count": null,
   "id": "1fd4a78b-d2fc-4d64-8f49-720c3d6ddfb8",
   "metadata": {},
   "outputs": [],
   "source": [
    "import idr_torch"
   ]
  },
  {
   "cell_type": "code",
   "execution_count": null,
   "id": "f2ad3c95-2a46-4de6-82c1-72df4474abc7",
   "metadata": {},
   "outputs": [],
   "source": [
    "import os\n",
    "os.environ['SLURM_JOB_ID']='42' #Fake that we are not in a slurm job\n",
    "import idr_torch"
   ]
  },
  {
   "cell_type": "code",
   "execution_count": null,
   "id": "9fd1c326-ae22-4824-bffa-a76b43309b47",
   "metadata": {},
   "outputs": [],
   "source": [
    "idr_torch.size"
   ]
  }
 ],
 "metadata": {
  "kernelspec": {
   "display_name": "python-3.10.4",
   "language": "python",
   "name": "module-conda-env-python-3.10.4"
  },
  "language_info": {
   "codemirror_mode": {
    "name": "ipython",
    "version": 3
   },
   "file_extension": ".py",
   "mimetype": "text/x-python",
   "name": "python",
   "nbconvert_exporter": "python",
   "pygments_lexer": "ipython3",
   "version": "3.10.4"
  }
 },
 "nbformat": 4,
 "nbformat_minor": 5
}
